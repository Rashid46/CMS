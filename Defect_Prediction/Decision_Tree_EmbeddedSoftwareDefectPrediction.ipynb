{
 "cells": [
  {
   "cell_type": "markdown",
   "metadata": {},
   "source": [
    "# On the Prediction of Software Defects for Embedded Real-time Systems"
   ]
  },
  {
   "cell_type": "markdown",
   "metadata": {},
   "source": [
    "# Decision Tree"
   ]
  },
  {
   "cell_type": "code",
   "execution_count": 1,
   "metadata": {
    "collapsed": true
   },
   "outputs": [],
   "source": [
    "import numpy as np\n",
    "import pickle\n",
    "from sklearn import tree"
   ]
  },
  {
   "cell_type": "markdown",
   "metadata": {},
   "source": [
    "# Loading the data from the Pickle files"
   ]
  },
  {
   "cell_type": "code",
   "execution_count": 2,
   "metadata": {},
   "outputs": [
    {
     "ename": "FileNotFoundError",
     "evalue": "[Errno 2] No such file or directory: 'x_train.pkl'",
     "output_type": "error",
     "traceback": [
      "\u001b[1;31m---------------------------------------------------------------------------\u001b[0m",
      "\u001b[1;31mFileNotFoundError\u001b[0m                         Traceback (most recent call last)",
      "\u001b[1;32m<ipython-input-2-58dee99f9a2a>\u001b[0m in \u001b[0;36m<module>\u001b[1;34m()\u001b[0m\n\u001b[1;32m----> 1\u001b[1;33m \u001b[1;32mwith\u001b[0m \u001b[0mopen\u001b[0m\u001b[1;33m(\u001b[0m\u001b[1;34m'x_train.pkl'\u001b[0m\u001b[1;33m,\u001b[0m \u001b[1;34m'rb'\u001b[0m\u001b[1;33m)\u001b[0m \u001b[1;32mas\u001b[0m \u001b[0mf\u001b[0m\u001b[1;33m:\u001b[0m\u001b[1;33m\u001b[0m\u001b[0m\n\u001b[0m\u001b[0;32m      2\u001b[0m     \u001b[0mx_train\u001b[0m \u001b[1;33m=\u001b[0m \u001b[0mpickle\u001b[0m\u001b[1;33m.\u001b[0m\u001b[0mload\u001b[0m\u001b[1;33m(\u001b[0m\u001b[0mf\u001b[0m\u001b[1;33m)\u001b[0m\u001b[1;33m\u001b[0m\u001b[0m\n\u001b[0;32m      3\u001b[0m \u001b[1;33m\u001b[0m\u001b[0m\n\u001b[0;32m      4\u001b[0m \u001b[1;32mwith\u001b[0m \u001b[0mopen\u001b[0m\u001b[1;33m(\u001b[0m\u001b[1;34m'x_test.pkl'\u001b[0m\u001b[1;33m,\u001b[0m \u001b[1;34m'rb'\u001b[0m\u001b[1;33m)\u001b[0m \u001b[1;32mas\u001b[0m \u001b[0mf\u001b[0m\u001b[1;33m:\u001b[0m\u001b[1;33m\u001b[0m\u001b[0m\n\u001b[0;32m      5\u001b[0m     \u001b[0mx_test\u001b[0m \u001b[1;33m=\u001b[0m \u001b[0mpickle\u001b[0m\u001b[1;33m.\u001b[0m\u001b[0mload\u001b[0m\u001b[1;33m(\u001b[0m\u001b[0mf\u001b[0m\u001b[1;33m)\u001b[0m\u001b[1;33m\u001b[0m\u001b[0m\n",
      "\u001b[1;31mFileNotFoundError\u001b[0m: [Errno 2] No such file or directory: 'x_train.pkl'"
     ]
    }
   ],
   "source": [
    "with open('x_train.pkl', 'rb') as f:\n",
    "    x_train = pickle.load(f)\n",
    "\n",
    "with open('x_test.pkl', 'rb') as f:\n",
    "    x_test = pickle.load(f)\n",
    "\n",
    "with open('y_train.pkl', 'rb') as f:\n",
    "    y_train = pickle.load(f)\n",
    "\n",
    "with open('y_test.pkl', 'rb') as f:\n",
    "    y_test = pickle.load(f)\n",
    "    \n",
    "with open('x_traincm1.pkl', 'rb') as f:\n",
    "    x_traincm1 = pickle.load(f)\n",
    "\n",
    "with open('x_testcm1.pkl', 'rb') as f:\n",
    "    x_testcm1 = pickle.load(f)\n",
    "\n",
    "with open('y_traincm1.pkl', 'rb') as f:\n",
    "    y_traincm1 = pickle.load(f)\n",
    "\n",
    "with open('y_testcm1.pkl', 'rb') as f:\n",
    "    y_testcm1 = pickle.load(f)\n",
    "    \n",
    "with open('x_trainjm1.pkl', 'rb') as f:\n",
    "    x_trainjm1 = pickle.load(f)\n",
    "\n",
    "with open('x_testjm1.pkl', 'rb') as f:\n",
    "    x_testjm1 = pickle.load(f)\n",
    "\n",
    "with open('y_trainjm1.pkl', 'rb') as f:\n",
    "    y_trainjm1 = pickle.load(f)\n",
    "\n",
    "with open('y_testjm1.pkl', 'rb') as f:\n",
    "    y_testjm1 = pickle.load(f)\n",
    "    \n",
    "with open('x_trainkc1.pkl', 'rb') as f:\n",
    "    x_trainkc1 = pickle.load(f)\n",
    "\n",
    "with open('x_testkc1.pkl', 'rb') as f:\n",
    "    x_testkc1 = pickle.load(f)\n",
    "\n",
    "with open('y_trainkc1.pkl', 'rb') as f:\n",
    "    y_trainkc1 = pickle.load(f)\n",
    "\n",
    "with open('y_testkc1.pkl', 'rb') as f:\n",
    "    y_testkc1 = pickle.load(f)\n",
    "    \n",
    "with open('x_trainkc2.pkl', 'rb') as f:\n",
    "    x_trainkc2 = pickle.load(f)\n",
    "\n",
    "with open('x_testkc2.pkl', 'rb') as f:\n",
    "    x_testkc2 = pickle.load(f)\n",
    "\n",
    "with open('y_trainkc2.pkl', 'rb') as f:\n",
    "    y_trainkc2 = pickle.load(f)\n",
    "\n",
    "with open('y_testkc2.pkl', 'rb') as f:\n",
    "    y_testkc2 = pickle.load(f)\n",
    "    \n",
    "with open('x_trainpc1.pkl', 'rb') as f:\n",
    "    x_trainpc1 = pickle.load(f)\n",
    "\n",
    "with open('x_testpc1.pkl', 'rb') as f:\n",
    "    x_testpc1 = pickle.load(f)\n",
    "\n",
    "with open('y_trainpc1.pkl', 'rb') as f:\n",
    "    y_trainpc1 = pickle.load(f)\n",
    "\n",
    "with open('y_testpc1.pkl', 'rb') as f:\n",
    "    y_testpc1 = pickle.load(f)\n",
    "    \n",
    "with open('y_train_before1.pkl', 'rb') as f:\n",
    "    y_train_before = pickle.load(f)\n",
    "\n",
    "with open('y_test_before1.pkl', 'rb') as f:\n",
    "    y_test_before = pickle.load(f)\n",
    "    \n",
    "    \n",
    "with open('y_train_before1cm1.pkl', 'rb') as f:\n",
    "    y_train_beforecm1 = pickle.load(f)\n",
    "\n",
    "with open('y_test_before1cm1.pkl', 'rb') as f:\n",
    "    y_test_beforecm1 = pickle.load(f)\n",
    "    \n",
    "with open('y_train_before1jm1.pkl', 'rb') as f:\n",
    "    y_train_beforejm1 = pickle.load(f)\n",
    "\n",
    "with open('y_test_before1jm1.pkl', 'rb') as f:\n",
    "    y_test_beforejm1 = pickle.load(f)\n",
    "    \n",
    "with open('y_train_before1kc1.pkl', 'rb') as f:\n",
    "    y_train_beforekc1 = pickle.load(f)\n",
    "\n",
    "with open('y_test_before1kc1.pkl', 'rb') as f:\n",
    "    y_test_beforekc1 = pickle.load(f)\n",
    "    \n",
    "with open('y_train_before1kc2.pkl', 'rb') as f:\n",
    "    y_train_beforekc2 = pickle.load(f)\n",
    "\n",
    "with open('y_test_before1kc2.pkl', 'rb') as f:\n",
    "    y_test_beforekc2 = pickle.load(f)\n",
    "    \n",
    "with open('y_train_before1pc1.pkl', 'rb') as f:\n",
    "    y_train_beforepc1 = pickle.load(f)\n",
    "\n",
    "with open('y_test_before1pc1.pkl', 'rb') as f:\n",
    "    y_test_beforepc1 = pickle.load(f)"
   ]
  },
  {
   "cell_type": "markdown",
   "metadata": {},
   "source": [
    "# Prediction of Software Defects using Decision Tree"
   ]
  },
  {
   "cell_type": "code",
   "execution_count": null,
   "metadata": {
    "collapsed": true
   },
   "outputs": [],
   "source": [
    "def defect_prediction_model_dT(x_train, y_train, x_test):\n",
    "    model = tree.DecisionTreeClassifier(criterion='gini')\n",
    "    model.fit(x_train, y_train)\n",
    "    print(model.score(x_train, y_train))\n",
    "    #Predict Output\n",
    "    output = model.predict(x_test)\n",
    "    return output"
   ]
  },
  {
   "cell_type": "code",
   "execution_count": null,
   "metadata": {},
   "outputs": [],
   "source": [
    "output_dt = defect_prediction_model_dT(x_train, y_train_before, x_test)\n",
    "output_dtcm1 = defect_prediction_model_dT(x_traincm1, y_train_beforecm1, x_testcm1)\n",
    "output_dtjm1 = defect_prediction_model_dT(x_trainjm1, y_train_beforejm1, x_testjm1)\n",
    "output_dtkc1 = defect_prediction_model_dT(x_trainkc1, y_train_beforekc1, x_testkc1)\n",
    "output_dtkc2 = defect_prediction_model_dT(x_trainkc2, y_train_beforekc2, x_testkc2)\n",
    "output_dtpc1 = defect_prediction_model_dT(x_trainpc1, y_train_beforepc1, x_testpc1)"
   ]
  },
  {
   "cell_type": "markdown",
   "metadata": {},
   "source": [
    "# Calculating Accuracy"
   ]
  },
  {
   "cell_type": "code",
   "execution_count": null,
   "metadata": {
    "collapsed": true
   },
   "outputs": [],
   "source": [
    "def calculate_accuracy(output, y_test_before1):\n",
    "    accuracy = 0\n",
    "    for i in range(len(output)):\n",
    "        if y_test_before1[i] == output[i]:\n",
    "            accuracy += 1\n",
    "    \n",
    "    accuracy = accuracy/len(output)\n",
    "    \n",
    "    return accuracy"
   ]
  },
  {
   "cell_type": "code",
   "execution_count": null,
   "metadata": {
    "collapsed": true
   },
   "outputs": [],
   "source": [
    "accuracy = calculate_accuracy(output_dt, y_test_before)\n",
    "accuracycm1 = calculate_accuracy(output_dtcm1, y_test_beforecm1)\n",
    "accuracyjm1 = calculate_accuracy(output_dtjm1, y_test_beforejm1)\n",
    "accuracykc1 = calculate_accuracy(output_dtkc1, y_test_beforekc1)\n",
    "accuracykc2 = calculate_accuracy(output_dtkc2, y_test_beforekc2)\n",
    "accuracypc1 = calculate_accuracy(output_dtpc1, y_test_beforepc1)"
   ]
  },
  {
   "cell_type": "code",
   "execution_count": null,
   "metadata": {},
   "outputs": [],
   "source": [
    "print(accuracycm1)\n",
    "print(accuracyjm1)\n",
    "print(accuracykc1)\n",
    "print(accuracykc2)\n",
    "print(accuracypc1)\n",
    "print(accuracy)"
   ]
  },
  {
   "cell_type": "code",
   "execution_count": null,
   "metadata": {
    "collapsed": true
   },
   "outputs": [],
   "source": []
  }
 ],
 "metadata": {
  "kernelspec": {
   "display_name": "Python 3",
   "language": "python",
   "name": "python3"
  },
  "language_info": {
   "codemirror_mode": {
    "name": "ipython",
    "version": 3
   },
   "file_extension": ".py",
   "mimetype": "text/x-python",
   "name": "python",
   "nbconvert_exporter": "python",
   "pygments_lexer": "ipython3",
   "version": "3.6.3"
  }
 },
 "nbformat": 4,
 "nbformat_minor": 2
}
